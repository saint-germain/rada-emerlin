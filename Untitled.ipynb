{
 "cells": [
  {
   "cell_type": "code",
   "execution_count": 2,
   "metadata": {},
   "outputs": [],
   "source": [
    "import sys\n",
    "sys.path+=['',\n",
    " '/Applications/CASA.app/Contents/Resources/python',\n",
    " '/Applications/CASA.app/Contents/Frameworks/Python.framework/Versions/2.7/lib/python2.7/site-packages/readline',\n",
    " '/Applications/CASA.app/Contents/Resources/python',\n",
    " '/Applications/CASA.app/Contents/Frameworks/Python.framework/Versions/2.7/MacOS',\n",
    " '/Applications/CASA.app/Contents/Frameworks/Python.framework/Versions/2.7/lib/python2.7',\n",
    " '/Applications/CASA.app/Contents/Frameworks/Python.framework/Versions/2.7/lib/python2.7/plat-mac',\n",
    " '/Applications/CASA.app/Contents/Frameworks/Python.framework/Versions/2.7/lib/python2.7/plat-darwin',\n",
    " '/Applications/CASA.app/Contents/Frameworks/Python.framework/Versions/2.7/MacOS/lib-scriptpackages',\n",
    " '/Applications/CASA.app/Contents/Frameworks/Python.framework/Versions/2.7/lib/python2.7/lib-tk',\n",
    " '/Applications/CASA.app/Contents/Frameworks/Python.framework/Versions/2.7/lib/python2.7/lib-dynload',\n",
    " '/Applications/CASA.app/Contents/Frameworks/Python.framework/Versions/2.7/lib/python2.7/site-packages',\n",
    " '/Applications/CASA.app/Contents/Frameworks/Python.framework/Versions/2.7/lib/python2.7/site-packages/Numeric',\n",
    " '/Applications/CASA.app/Contents/Frameworks/Python.framework/Versions/2.7/lib/python2.7/site-packages/PyObjC',\n",
    " '/Applications/CASA.app/Contents/Frameworks/Python.framework/Versions/2.7/lib/python27.zip',\n",
    " '/Applications/CASA.app/Contents/Frameworks/Python.framework/Versions/2.7/lib/python2.7/plat-mac/lib-scriptpackages',\n",
    " '/Applications/CASA.app/Contents/Frameworks/Python.framework/Versions/2.7/lib/python2.7/lib-old',\n",
    " '/Users/germanchaparro/Library/Python/2.7/lib/python/site-packages',\n",
    " '/Applications/CASA.app/Contents/Frameworks/Python.framework/Versions/2.7/lib/python2.7/site-packages/IPython/Extensions',\n",
    " '/Applications/CASA.app/Contents/Frameworks/Python.framework/Versions/2.7/lib/python2.7/site-packages/Cython/Includes',\n",
    " '/Users/germanchaparro/.casa/ipython']"
   ]
  },
  {
   "cell_type": "code",
   "execution_count": 4,
   "metadata": {},
   "outputs": [
    {
     "ename": "NameError",
     "evalue": "name 'ms' is not defined",
     "output_type": "error",
     "traceback": [
      "\u001b[0;31m---------------------------------------------------------------------------\u001b[0m",
      "\u001b[0;31mNameError\u001b[0m                                 Traceback (most recent call last)",
      "\u001b[0;32m<ipython-input-4-483a0c0e0c16>\u001b[0m in \u001b[0;36m<module>\u001b[0;34m()\u001b[0m\n\u001b[0;32m----> 1\u001b[0;31m \u001b[0mms\u001b[0m\u001b[0;34m.\u001b[0m\u001b[0mopen\u001b[0m \u001b[0;34m(\u001b[0m\u001b[0;34m'/Volumes/NO NAME/POWERWALL/3C277.1_avg.ms'\u001b[0m\u001b[0;34m)\u001b[0m\u001b[0;34m\u001b[0m\u001b[0m\n\u001b[0m",
      "\u001b[0;31mNameError\u001b[0m: name 'ms' is not defined"
     ]
    }
   ],
   "source": [
    "ms.open ('/Volumes/NO NAME/POWERWALL/3C277.1_avg.ms')\n"
   ]
  },
  {
   "cell_type": "code",
   "execution_count": null,
   "metadata": {
    "collapsed": true
   },
   "outputs": [],
   "source": []
  }
 ],
 "metadata": {
  "kernelspec": {
   "display_name": "Python 2",
   "language": "python",
   "name": "python2"
  },
  "language_info": {
   "codemirror_mode": {
    "name": "ipython",
    "version": 2
   },
   "file_extension": ".py",
   "mimetype": "text/x-python",
   "name": "python",
   "nbconvert_exporter": "python",
   "pygments_lexer": "ipython2",
   "version": "2.7.12"
  }
 },
 "nbformat": 4,
 "nbformat_minor": 2
}
